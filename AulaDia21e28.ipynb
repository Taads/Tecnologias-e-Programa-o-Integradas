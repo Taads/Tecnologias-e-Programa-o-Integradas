{
  "nbformat": 4,
  "nbformat_minor": 0,
  "metadata": {
    "colab": {
      "provenance": [],
      "authorship_tag": "ABX9TyPo9mZRADPcOhxHLlRvJQzp",
      "include_colab_link": true
    },
    "kernelspec": {
      "name": "python3",
      "display_name": "Python 3"
    },
    "language_info": {
      "name": "python"
    }
  },
  "cells": [
    {
      "cell_type": "markdown",
      "metadata": {
        "id": "view-in-github",
        "colab_type": "text"
      },
      "source": [
        "<a href=\"https://colab.research.google.com/github/Taads/Tecnologias-e-Programa-o-Integradas/blob/main/AulaDia21e28.ipynb\" target=\"_parent\"><img src=\"https://colab.research.google.com/assets/colab-badge.svg\" alt=\"Open In Colab\"/></a>"
      ]
    },
    {
      "cell_type": "code",
      "execution_count": null,
      "metadata": {
        "colab": {
          "base_uri": "https://localhost:8080/"
        },
        "id": "V5zB0COR5O6L",
        "outputId": "dd0e593c-ef80-4e11-e78b-67934d4739a3"
      },
      "outputs": [
        {
          "output_type": "stream",
          "name": "stdout",
          "text": [
            "1\n",
            "2\n",
            "Jesus\n",
            "2\n"
          ]
        },
        {
          "output_type": "execute_result",
          "data": {
            "text/plain": [
              "123"
            ]
          },
          "metadata": {},
          "execution_count": 5
        }
      ],
      "source": [
        "teste = \"Jesus\"\n",
        "type(teste)\n",
        "\n",
        "lista_teste = [1, 2, \"Jesus\"]\n",
        "lista_teste\n",
        "\n",
        "lista_teste.append(2)\n",
        "lista_teste\n",
        "\n",
        "\n",
        "for elemento in lista_teste:\n",
        "      print(elemento)\n",
        "\n",
        "\n",
        "lista_teste[2] = 8888\n",
        "lista_teste\n",
        "\n",
        "dict_teste = {\"chave_1\": 123}\n",
        "dict_teste['chave_1']"
      ]
    },
    {
      "cell_type": "code",
      "source": [
        "nome = \"Jesus\"\n",
        "def nome_funcao(parametro_1):\n",
        "  print(f\"O nome: {parametro_1} \")\n",
        "\n",
        "nome_funcao(nome)"
      ],
      "metadata": {
        "colab": {
          "base_uri": "https://localhost:8080/"
        },
        "id": "niedRB8B7896",
        "outputId": "19811302-47d9-4b84-c919-34a18e63bda3"
      },
      "execution_count": null,
      "outputs": [
        {
          "output_type": "stream",
          "name": "stdout",
          "text": [
            "O nome: Jesus \n"
          ]
        }
      ]
    },
    {
      "cell_type": "markdown",
      "source": [],
      "metadata": {
        "id": "dNBIaXeP_cT3"
      }
    },
    {
      "cell_type": "markdown",
      "source": [
        "#Exercicios\n"
      ],
      "metadata": {
        "id": "b55dHGLZ_fUb"
      }
    },
    {
      "cell_type": "code",
      "source": [
        "#Exer 1\n",
        "\n",
        "lista = list(range(100))\n",
        "print(lista)\n",
        "\n",
        "\n",
        "for i in lista:\n",
        "  if i % 2 == 0:\n",
        "    print(i)\n",
        "\n"
      ],
      "metadata": {
        "colab": {
          "base_uri": "https://localhost:8080/"
        },
        "id": "1z2k1j9m_ic6",
        "outputId": "e1e5d05d-d0d6-4974-ed91-7845014c16ec"
      },
      "execution_count": null,
      "outputs": [
        {
          "output_type": "stream",
          "name": "stdout",
          "text": [
            "[0, 1, 2, 3, 4, 5, 6, 7, 8, 9, 10, 11, 12, 13, 14, 15, 16, 17, 18, 19, 20, 21, 22, 23, 24, 25, 26, 27, 28, 29, 30, 31, 32, 33, 34, 35, 36, 37, 38, 39, 40, 41, 42, 43, 44, 45, 46, 47, 48, 49, 50, 51, 52, 53, 54, 55, 56, 57, 58, 59, 60, 61, 62, 63, 64, 65, 66, 67, 68, 69, 70, 71, 72, 73, 74, 75, 76, 77, 78, 79, 80, 81, 82, 83, 84, 85, 86, 87, 88, 89, 90, 91, 92, 93, 94, 95, 96, 97, 98, 99]\n",
            "0\n",
            "2\n",
            "4\n",
            "6\n",
            "8\n",
            "10\n",
            "12\n",
            "14\n",
            "16\n",
            "18\n",
            "20\n",
            "22\n",
            "24\n",
            "26\n",
            "28\n",
            "30\n",
            "32\n",
            "34\n",
            "36\n",
            "38\n",
            "40\n",
            "42\n",
            "44\n",
            "46\n",
            "48\n",
            "50\n",
            "52\n",
            "54\n",
            "56\n",
            "58\n",
            "60\n",
            "62\n",
            "64\n",
            "66\n",
            "68\n",
            "70\n",
            "72\n",
            "74\n",
            "76\n",
            "78\n",
            "80\n",
            "82\n",
            "84\n",
            "86\n",
            "88\n",
            "90\n",
            "92\n",
            "94\n",
            "96\n",
            "98\n"
          ]
        }
      ]
    },
    {
      "cell_type": "code",
      "source": [
        "#Exer 2\n",
        "\n",
        "lista_frutas = [\"uva\", \"abacaxi\", \"melancia\"]\n",
        "print(\"Frutas: \")\n",
        "print(lista_frutas)\n",
        "\n",
        "\n",
        "tamanho_lista =[]\n",
        "print(\"Comprimento das palavras: \")\n",
        "\n",
        "for fruta in lista_frutas:\n",
        "  tamanho_lista.append(len(fruta)) #append: insere elementos, len: conta os digitos da string\n",
        "\n",
        "print(tamanho_lista)"
      ],
      "metadata": {
        "colab": {
          "base_uri": "https://localhost:8080/"
        },
        "id": "0Ux1xxPvBS3Y",
        "outputId": "ce08b23a-d991-4668-91bc-47fdf7d30c5e"
      },
      "execution_count": null,
      "outputs": [
        {
          "output_type": "stream",
          "name": "stdout",
          "text": [
            "Frutas: \n",
            "['uva', 'abacaxi', 'melancia']\n",
            "Comprimento das palavras: \n",
            "[3, 7, 8]\n"
          ]
        }
      ]
    },
    {
      "cell_type": "code",
      "source": [
        "#Exer 3\n",
        "dict_list = {1, 2, 3, 4, 1, 4}\n",
        "dict_list"
      ],
      "metadata": {
        "colab": {
          "base_uri": "https://localhost:8080/"
        },
        "id": "dSqd0uZcEZvM",
        "outputId": "c9d783a0-663f-49e0-ca88-c0de6f35b229"
      },
      "execution_count": null,
      "outputs": [
        {
          "output_type": "execute_result",
          "data": {
            "text/plain": [
              "{1, 2, 3, 4}"
            ]
          },
          "metadata": {},
          "execution_count": 14
        }
      ]
    },
    {
      "cell_type": "code",
      "source": [
        "#Exer 4\n",
        "\n",
        "lista = [1, 2, 3, 19, 8]\n",
        "lista.sort()\n",
        "print(\"lista: \")\n",
        "print(lista)\n",
        "\n",
        "print(f\"segundo maior: (lista[8])\")\n",
        "print(f\"segundo menor: (lista[2])\")"
      ],
      "metadata": {
        "colab": {
          "base_uri": "https://localhost:8080/"
        },
        "id": "NpqcusdPHiEX",
        "outputId": "a7d919a3-1c41-42f2-f367-716bfa4f9a86"
      },
      "execution_count": null,
      "outputs": [
        {
          "output_type": "stream",
          "name": "stdout",
          "text": [
            "lista: \n",
            "[1, 2, 3, 8, 19]\n",
            "segundo maior: (lista[8])\n",
            "segundo menor: (lista[2])\n"
          ]
        }
      ]
    },
    {
      "cell_type": "code",
      "source": [
        "#Exer 5\n",
        "\n",
        "lista1 = [11, 55, 33]\n",
        "lista2 = [44, 55, 66]\n",
        "\n",
        "for i in lista1:\n",
        "  if i in lista2:\n",
        "    print(i)"
      ],
      "metadata": {
        "colab": {
          "base_uri": "https://localhost:8080/"
        },
        "id": "JR3ZTjMCIptl",
        "outputId": "095bc6c5-aee1-4310-f7f7-f3fd81786c99"
      },
      "execution_count": null,
      "outputs": [
        {
          "output_type": "stream",
          "name": "stdout",
          "text": [
            "55\n"
          ]
        }
      ]
    },
    {
      "cell_type": "code",
      "source": [
        "#Exer 6\n",
        "\n",
        "def palindromo(nomes): #= [\"kaiak\", \"natan\", \"ovo\", \"ana\", \"Kauan\", \"ju\"]\n",
        "\n",
        " for nome in nomes:\n",
        "  if (nome == nome[::-1]):\n",
        "   print(nome)\n",
        "\n",
        "palindromo ( [\"kaiak\", \"natan\", \"ovo\", \"ana\", \"Kauan\", \"ju\"] )\n",
        "\n"
      ],
      "metadata": {
        "colab": {
          "base_uri": "https://localhost:8080/"
        },
        "id": "2Bi6C9qRJsio",
        "outputId": "b650d6ac-6491-44e4-8fb1-e7d47a40bf61"
      },
      "execution_count": null,
      "outputs": [
        {
          "output_type": "stream",
          "name": "stdout",
          "text": [
            "kaiak\n",
            "natan\n",
            "ovo\n",
            "ana\n"
          ]
        }
      ]
    },
    {
      "cell_type": "code",
      "source": [
        "#Exer 7\n",
        "{\n",
        "\"nome_produto\": \"agua\",\n",
        "\"preco_produto\": 5,\n",
        "\"qtde.estoque\": 15,\n",
        "\n",
        "\"nome_produto\": \"pao\",\n",
        "\"preco_produto\": 4,\n",
        "\"qtde.estoque\": 24,\n",
        "\n",
        "\"nome_produto\": \"bolo\",\n",
        "\"preco_produto\": 13,\n",
        "\"qtde.estoque\": 87,\n",
        "\n",
        "\n",
        "  }"
      ],
      "metadata": {
        "id": "yTysPn6QPvNv"
      },
      "execution_count": null,
      "outputs": []
    },
    {
      "cell_type": "markdown",
      "source": [
        "**Quiz dia 21 de fevereiro**"
      ],
      "metadata": {
        "id": "h-tJl24VCjVT"
      }
    },
    {
      "cell_type": "code",
      "source": [
        "#Quiz Problema 1\n",
        "\n",
        "import re\n",
        "\n",
        "def validar_senha(senha):\n",
        "\n",
        "    if not re.search(r'[A-Z]', senha) or not re.search(r'[a-z]', senha) or not re.search(r'\\d', senha):\n",
        "        return \"Senha invalida.\"\n",
        "\n",
        "\n",
        "    if re.search(r'[!@#$%^&*(),.?\":{}|<> ]', senha):\n",
        "        return \"Senha invalida.\"\n",
        "\n",
        "    if 6 <= len(senha) <= 32:\n",
        "        return \"Senha valida.\"\n",
        "    else:\n",
        "        return \"Senha invalida.\"\n",
        "\n",
        "while True:\n",
        "    try:\n",
        "        senha = input()\n",
        "        resultado = validar_senha(senha)\n",
        "        print(resultado)\n",
        "    except EOFError:\n",
        "        break\n",
        "\n",
        "\n"
      ],
      "metadata": {
        "id": "PgeBXaXCCtIr",
        "colab": {
          "base_uri": "https://localhost:8080/",
          "height": 372
        },
        "outputId": "99e521a8-507b-48b6-ea45-24586ba5377b"
      },
      "execution_count": 7,
      "outputs": [
        {
          "output_type": "error",
          "ename": "KeyboardInterrupt",
          "evalue": "Interrupted by user",
          "traceback": [
            "\u001b[0;31m---------------------------------------------------------------------------\u001b[0m",
            "\u001b[0;31mKeyboardInterrupt\u001b[0m                         Traceback (most recent call last)",
            "\u001b[0;32m<ipython-input-7-33edf7a30832>\u001b[0m in \u001b[0;36m<cell line: 19>\u001b[0;34m()\u001b[0m\n\u001b[1;32m     19\u001b[0m \u001b[0;32mwhile\u001b[0m \u001b[0;32mTrue\u001b[0m\u001b[0;34m:\u001b[0m\u001b[0;34m\u001b[0m\u001b[0;34m\u001b[0m\u001b[0m\n\u001b[1;32m     20\u001b[0m     \u001b[0;32mtry\u001b[0m\u001b[0;34m:\u001b[0m\u001b[0;34m\u001b[0m\u001b[0;34m\u001b[0m\u001b[0m\n\u001b[0;32m---> 21\u001b[0;31m         \u001b[0msenha\u001b[0m \u001b[0;34m=\u001b[0m \u001b[0minput\u001b[0m\u001b[0;34m(\u001b[0m\u001b[0;34m)\u001b[0m\u001b[0;34m\u001b[0m\u001b[0;34m\u001b[0m\u001b[0m\n\u001b[0m\u001b[1;32m     22\u001b[0m         \u001b[0mresultado\u001b[0m \u001b[0;34m=\u001b[0m \u001b[0mvalidar_senha\u001b[0m\u001b[0;34m(\u001b[0m\u001b[0msenha\u001b[0m\u001b[0;34m)\u001b[0m\u001b[0;34m\u001b[0m\u001b[0;34m\u001b[0m\u001b[0m\n\u001b[1;32m     23\u001b[0m         \u001b[0mprint\u001b[0m\u001b[0;34m(\u001b[0m\u001b[0mresultado\u001b[0m\u001b[0;34m)\u001b[0m\u001b[0;34m\u001b[0m\u001b[0;34m\u001b[0m\u001b[0m\n",
            "\u001b[0;32m/usr/local/lib/python3.10/dist-packages/ipykernel/kernelbase.py\u001b[0m in \u001b[0;36mraw_input\u001b[0;34m(self, prompt)\u001b[0m\n\u001b[1;32m    849\u001b[0m                 \u001b[0;34m\"raw_input was called, but this frontend does not support input requests.\"\u001b[0m\u001b[0;34m\u001b[0m\u001b[0;34m\u001b[0m\u001b[0m\n\u001b[1;32m    850\u001b[0m             )\n\u001b[0;32m--> 851\u001b[0;31m         return self._input_request(str(prompt),\n\u001b[0m\u001b[1;32m    852\u001b[0m             \u001b[0mself\u001b[0m\u001b[0;34m.\u001b[0m\u001b[0m_parent_ident\u001b[0m\u001b[0;34m,\u001b[0m\u001b[0;34m\u001b[0m\u001b[0;34m\u001b[0m\u001b[0m\n\u001b[1;32m    853\u001b[0m             \u001b[0mself\u001b[0m\u001b[0;34m.\u001b[0m\u001b[0m_parent_header\u001b[0m\u001b[0;34m,\u001b[0m\u001b[0;34m\u001b[0m\u001b[0;34m\u001b[0m\u001b[0m\n",
            "\u001b[0;32m/usr/local/lib/python3.10/dist-packages/ipykernel/kernelbase.py\u001b[0m in \u001b[0;36m_input_request\u001b[0;34m(self, prompt, ident, parent, password)\u001b[0m\n\u001b[1;32m    893\u001b[0m             \u001b[0;32mexcept\u001b[0m \u001b[0mKeyboardInterrupt\u001b[0m\u001b[0;34m:\u001b[0m\u001b[0;34m\u001b[0m\u001b[0;34m\u001b[0m\u001b[0m\n\u001b[1;32m    894\u001b[0m                 \u001b[0;31m# re-raise KeyboardInterrupt, to truncate traceback\u001b[0m\u001b[0;34m\u001b[0m\u001b[0;34m\u001b[0m\u001b[0m\n\u001b[0;32m--> 895\u001b[0;31m                 \u001b[0;32mraise\u001b[0m \u001b[0mKeyboardInterrupt\u001b[0m\u001b[0;34m(\u001b[0m\u001b[0;34m\"Interrupted by user\"\u001b[0m\u001b[0;34m)\u001b[0m \u001b[0;32mfrom\u001b[0m \u001b[0;32mNone\u001b[0m\u001b[0;34m\u001b[0m\u001b[0;34m\u001b[0m\u001b[0m\n\u001b[0m\u001b[1;32m    896\u001b[0m             \u001b[0;32mexcept\u001b[0m \u001b[0mException\u001b[0m \u001b[0;32mas\u001b[0m \u001b[0me\u001b[0m\u001b[0;34m:\u001b[0m\u001b[0;34m\u001b[0m\u001b[0;34m\u001b[0m\u001b[0m\n\u001b[1;32m    897\u001b[0m                 \u001b[0mself\u001b[0m\u001b[0;34m.\u001b[0m\u001b[0mlog\u001b[0m\u001b[0;34m.\u001b[0m\u001b[0mwarning\u001b[0m\u001b[0;34m(\u001b[0m\u001b[0;34m\"Invalid Message:\"\u001b[0m\u001b[0;34m,\u001b[0m \u001b[0mexc_info\u001b[0m\u001b[0;34m=\u001b[0m\u001b[0;32mTrue\u001b[0m\u001b[0;34m)\u001b[0m\u001b[0;34m\u001b[0m\u001b[0;34m\u001b[0m\u001b[0m\n",
            "\u001b[0;31mKeyboardInterrupt\u001b[0m: Interrupted by user"
          ]
        }
      ]
    },
    {
      "cell_type": "markdown",
      "source": [
        "Exer dia 28, do 1 ao 20\n"
      ],
      "metadata": {
        "id": "oaIWx1Gq27kR"
      }
    },
    {
      "cell_type": "code",
      "source": [
        "#Exer 1\n",
        "\n",
        "\n",
        "def vogais(palavra):\n",
        " vogais = \"aeiouAEIOU\"\n",
        " t_vogais=0\n",
        " for letra in palavra:\n",
        "   if letra in vogais:\n",
        "    t_vogais +=1\n",
        " return t_vogais\n",
        "\n",
        "dig = input((\"Digite uma palavra: \"))\n",
        "print(f\"A palavra '{dig}' tem' {vogais(dig)} 'vogais\")\n",
        "\n",
        "\n"
      ],
      "metadata": {
        "colab": {
          "base_uri": "https://localhost:8080/"
        },
        "id": "6lvVLYeo2_rX",
        "outputId": "a917ab69-f390-4a93-d06d-01236ebdb597"
      },
      "execution_count": null,
      "outputs": [
        {
          "output_type": "stream",
          "name": "stdout",
          "text": [
            "Digite uma palavra: tadeu\n",
            "A palavra 'tadeu' tem' 3 'vogais\n"
          ]
        }
      ]
    },
    {
      "cell_type": "code",
      "source": [
        "#exer 2\n",
        "\n",
        "def substituir_letra (palavra, letra_antiga, letra_nova):\n",
        "  nova_palavra = ''\n",
        "  for letra in palavra:\n",
        "    if letra == letra_antiga:\n",
        "      nova_palavra += letra_nova\n",
        "    else:\n",
        "      nova_palavra += letra\n",
        "  return nova_palavra\n",
        "\n",
        "palavra = (input(\"Digite uma palavra: \"))\n",
        "letra_antiga = (input(\"Digite a letra antiga: \"))\n",
        "letra_nova = (input(\"Digite a nova letra: \"))\n",
        "\n",
        "print(f\"A palavra '{palavra}' com a letra '{letra_antiga}' fica '{substituir_letra(palavra, letra_antiga, letra_nova)}'\")\n"
      ],
      "metadata": {
        "colab": {
          "base_uri": "https://localhost:8080/"
        },
        "id": "-L9BIUgB7H6W",
        "outputId": "7177745e-9491-41ec-ad9f-917c8e5fdca0"
      },
      "execution_count": null,
      "outputs": [
        {
          "output_type": "stream",
          "name": "stdout",
          "text": [
            "Digite uma palavra: teste\n",
            "Digite a letra antiga: e\n",
            "Digite a nova letra: a\n",
            "A palavra 'teste' com a letra 'e' fica 'tasta'\n"
          ]
        }
      ]
    },
    {
      "cell_type": "code",
      "source": [
        "#exer 3\n",
        "\n",
        "def texto (palavra):\n",
        "  separar = palavra.split()\n",
        "  return len(separar)\n",
        "\n",
        "frase = input((\"Digite uma frase: \"))\n",
        "print(f\"A frase '{frase}' digitada tem '{texto(frase)}' palavra\")\n",
        "\n"
      ],
      "metadata": {
        "colab": {
          "base_uri": "https://localhost:8080/"
        },
        "id": "WUrHlNNt8yXi",
        "outputId": "3e25c1c8-3072-4b7e-e5e9-2df2a7b91d49"
      },
      "execution_count": null,
      "outputs": [
        {
          "output_type": "stream",
          "name": "stdout",
          "text": [
            "Digite uma frase: jesus adada\n",
            "A frase 'jesus adada' digitada tem '2' palavra\n"
          ]
        }
      ]
    },
    {
      "cell_type": "code",
      "source": [
        "#Eer 4\n",
        "\n",
        "def contagem (frase, palavra):\n",
        "  cont = ''\n",
        "  for palavras in frase:\n",
        "    if palavras == palavra:\n",
        "      cont += 1\n",
        "    else:\n",
        "      print(\"palavra não encontrada\")\n",
        "  return cont\n",
        "\n",
        "frase = input(\"Digite uma frase: \")\n",
        "palavra = input(\"Digite a palavra a ser contada: \")\n",
        "\n",
        "print(f\"A palvra '{palavra}' se repete '{contagem(frase, palavra)}' vez/vezes na frase '{frase}'\")\n",
        "\n",
        "\n"
      ],
      "metadata": {
        "colab": {
          "base_uri": "https://localhost:8080/"
        },
        "id": "uYw4TYmi_qlV",
        "outputId": "70354310-87db-4043-b9ad-f0d846c22bd0"
      },
      "execution_count": null,
      "outputs": [
        {
          "output_type": "stream",
          "name": "stdout",
          "text": [
            "Digite uma frase: adadffff\n",
            "Digite a palavra a ser contada: ffff\n",
            "palavra não encontrada\n",
            "palavra não encontrada\n",
            "palavra não encontrada\n",
            "palavra não encontrada\n",
            "palavra não encontrada\n",
            "palavra não encontrada\n",
            "palavra não encontrada\n",
            "palavra não encontrada\n",
            "A palvra 'ffff' se repete '' vez/vezes na frase 'adadffff'\n"
          ]
        }
      ]
    },
    {
      "cell_type": "code",
      "source": [
        "#exer 5\n",
        "lista_exemplo = [10, 53, 8, 15, 28, 3, 1]\n",
        "\n",
        "def k_maiores(lista, x):\n",
        "\n",
        "    if len(lista) < x:\n",
        "        return \"A lista não possui x elementos.\"\n",
        "\n",
        "\n",
        "    lista_ordenada = sorted(lista, reverse=True)\n",
        "\n",
        "\n",
        "    x_maiores_elementos = lista_ordenada[:x]\n",
        "\n",
        "    return x_maiores_elementos\n",
        "\n",
        "\n",
        "x = 3\n",
        "resultado = k_maiores(lista_exemplo, x)\n",
        "print(f\"Os {x} maiores elementos da lista são: {resultado}\")\n",
        "\n",
        "\n"
      ],
      "metadata": {
        "colab": {
          "base_uri": "https://localhost:8080/"
        },
        "id": "lJ6tttWRIZBt",
        "outputId": "b1d08e5b-aa5e-4ed9-94e6-db1201e0ffb4"
      },
      "execution_count": null,
      "outputs": [
        {
          "output_type": "stream",
          "name": "stdout",
          "text": [
            "Os 3 maiores elementos da lista são: [53, 28, 15]\n"
          ]
        }
      ]
    },
    {
      "cell_type": "code",
      "source": [
        "#exer 6\n",
        "\n",
        "\n",
        "matriz_a = [[1, 2, 9],\n",
        "            [3, 4, 3]]\n",
        "\n",
        "\n",
        "matriz_b = [[5, 6, 2],\n",
        "            [7, 8, 7]]\n",
        "\n",
        "matriz_resultante = [[0, 0, 0],\n",
        "                     [0, 0, 0]]\n",
        "\n",
        "linhas = len(matriz_a)\n",
        "colunas = len(matriz_a[0])\n",
        "\n",
        "for i in range(linhas):\n",
        "    for j in range(colunas):\n",
        "        matriz_resultante[i][j] = matriz_a[i][j] + matriz_b[i][j]\n",
        "print(\"Matriz resultante (soma de A e B):\")\n",
        "for linha in matriz_resultante:\n",
        "    print(linha)\n"
      ],
      "metadata": {
        "colab": {
          "base_uri": "https://localhost:8080/"
        },
        "id": "Xa_0__-4K9yz",
        "outputId": "85ed23fa-97ee-4ba2-9747-e1bb5f28ae59"
      },
      "execution_count": null,
      "outputs": [
        {
          "output_type": "stream",
          "name": "stdout",
          "text": [
            "Matriz resultante (soma de A e B):\n",
            "[6, 8, 11]\n",
            "[10, 12, 10]\n"
          ]
        }
      ]
    },
    {
      "cell_type": "code",
      "source": [
        "#Exer 7\n",
        "\n",
        "lista_A = [33, 3, 7, 7, 7]\n",
        "\n",
        "lista_B = [3, 3, 7, 9, 4]\n",
        "\n",
        "lista_vazia = []\n",
        "\n",
        "for elemento in lista_A:\n",
        "    if elemento in lista_B and elemento not in lista_vazia:\n",
        "        lista_vazia.append(elemento)\n",
        "\n",
        "print(\"Lista a: \", lista_A)\n",
        "print(\"Lista b: \", lista_B)\n",
        "print(\"Vazia: \", lista_vazia)\n"
      ],
      "metadata": {
        "colab": {
          "base_uri": "https://localhost:8080/"
        },
        "id": "3TXG6IdmOxEi",
        "outputId": "fa1008b3-855f-471a-dd7c-7ce98bd30434"
      },
      "execution_count": null,
      "outputs": [
        {
          "output_type": "stream",
          "name": "stdout",
          "text": [
            "Lista a:  [33, 3, 7, 7, 7]\n",
            "Lista b:  [3, 3, 7, 9, 4]\n",
            "Vazia:  [3, 7]\n"
          ]
        }
      ]
    },
    {
      "cell_type": "code",
      "source": [
        "#Exer 8\n",
        "\n",
        "import random\n",
        "\n",
        "def embaralhar_lista(lista):\n",
        "\n",
        "    random.shuffle(lista)\n",
        "\n",
        "\n",
        "minha_lista = [8, 2, 6, 0, 11]\n",
        "print(\"Lista original:\", minha_lista)\n",
        "\n",
        "embaralhar_lista(minha_lista)\n",
        "print(\"Lista embaralhada:\", minha_lista)\n"
      ],
      "metadata": {
        "id": "ITrFDYk7RYRG",
        "colab": {
          "base_uri": "https://localhost:8080/"
        },
        "outputId": "1753663d-ffa6-418f-a479-db8ac7052036"
      },
      "execution_count": 9,
      "outputs": [
        {
          "output_type": "stream",
          "name": "stdout",
          "text": [
            "Lista original: [8, 2, 6, 0, 11]\n",
            "Lista embaralhada: [6, 2, 11, 8, 0]\n"
          ]
        }
      ]
    },
    {
      "cell_type": "code",
      "source": [
        "#exer 9\n",
        "\n",
        "def encontrar_par_soma(lista, alvo):\n",
        "\n",
        "    elementos_vistos = {}\n",
        "\n",
        "    for elemento in lista:\n",
        "\n",
        "        complemento = alvo - elemento\n",
        "\n",
        "\n",
        "        if complemento in elementos_vistos:\n",
        "\n",
        "            return (elemento, complemento)\n",
        "\n",
        "        elementos_vistos[elemento] = True\n",
        "\n",
        "\n",
        "    return None\n",
        "\n",
        "# Exemplo de uso\n",
        "minha_lista = [1, 2, 3, 4, 5, 6]\n",
        "alvo = 10\n",
        "\n",
        "par_encontrado = encontrar_par_soma(minha_lista, alvo)\n",
        "\n",
        "if par_encontrado:\n",
        "    print(f\"Par encontrado: {par_encontrado}\")\n",
        "else:\n",
        "    print(\"Nenhum par encontrado.\")\n"
      ],
      "metadata": {
        "colab": {
          "base_uri": "https://localhost:8080/"
        },
        "id": "UxuVSZAzGj1q",
        "outputId": "976a413e-2a1d-464e-c96d-7e5fa8683d96"
      },
      "execution_count": 12,
      "outputs": [
        {
          "output_type": "stream",
          "name": "stdout",
          "text": [
            "Par encontrado: (6, 4)\n"
          ]
        }
      ]
    },
    {
      "cell_type": "code",
      "source": [
        "#Exer 10\n",
        "\n",
        "def calcular_frequencia(texto, palavra):\n",
        "    return texto.lower().split().count(palavra.lower())\n",
        "\n",
        "\n",
        "texto = \"O gato e o rato. O rato correu do gato. O gato estava com fome.\"\n",
        "palavra = \"o\"\n",
        "print(calcular_frequencia(texto, palavra))\n",
        "\n",
        "\n"
      ],
      "metadata": {
        "colab": {
          "base_uri": "https://localhost:8080/"
        },
        "id": "xoxzlARwG7xF",
        "outputId": "e2efad5c-0950-4d86-dc67-47ba064b64a7"
      },
      "execution_count": 26,
      "outputs": [
        {
          "output_type": "stream",
          "name": "stdout",
          "text": [
            "4\n"
          ]
        }
      ]
    },
    {
      "cell_type": "code",
      "source": [
        "#Exer 11\n",
        "\n",
        "def eh_primo(numero):\n",
        "    if numero < 2:\n",
        "        return False\n",
        "    for i in range(2, int(numero**0.5) + 1):\n",
        "        if numero % i == 0:\n",
        "            return False\n",
        "    return True\n",
        "\n",
        "def encontrar_primos_na_lista(lista):\n",
        "    primos = [numero for numero in lista if eh_primo(numero)]\n",
        "    return primos\n",
        "\n",
        "\n",
        "minha_lista = [2, 3, 5, 7, 10, 11, 13, 17, 20, 23]\n",
        "primos_encontrados = encontrar_primos_na_lista(minha_lista)\n",
        "\n",
        "print(\"Números primos na lista:\", primos_encontrados)\n"
      ],
      "metadata": {
        "colab": {
          "base_uri": "https://localhost:8080/"
        },
        "id": "TvCWy2bLIY1b",
        "outputId": "c6153ffd-d109-4848-b853-df07b8a6cbfb"
      },
      "execution_count": 27,
      "outputs": [
        {
          "output_type": "stream",
          "name": "stdout",
          "text": [
            "Números primos na lista: [2, 3, 5, 7, 11, 13, 17, 23]\n"
          ]
        }
      ]
    },
    {
      "cell_type": "code",
      "source": [
        "#Exer 12\n",
        "\n",
        "def encontrar_menor_string(lista_strings):\n",
        "    if not lista_strings:\n",
        "        return None\n",
        "\n",
        "    menor_string = min(lista_strings, key=len)\n",
        "    return menor_string\n",
        "\n",
        "\n",
        "minhas_strings = [\"banana\", \"maçã\", \"pera\", \"uva\", \"abacaxi\"]\n",
        "menor_string_encontrada = encontrar_menor_string(minhas_strings)\n",
        "\n",
        "if menor_string_encontrada is not None:\n",
        "    print(\"Menor string na lista:\", menor_string_encontrada)\n",
        "else:\n",
        "    print(\"A lista está vazia.\")\n"
      ],
      "metadata": {
        "colab": {
          "base_uri": "https://localhost:8080/"
        },
        "id": "3Ywar2-MIrNr",
        "outputId": "7951940b-c77f-471a-d048-305d54f116c3"
      },
      "execution_count": 29,
      "outputs": [
        {
          "output_type": "stream",
          "name": "stdout",
          "text": [
            "Menor string na lista: u\n"
          ]
        }
      ]
    },
    {
      "cell_type": "code",
      "source": [
        "#Exer 13\n",
        "\n",
        "def ler_arquivo(nome_arquivo):\n",
        "    try:\n",
        "        with open(nome_arquivo, 'r') as arquivo:\n",
        "            conteudo = arquivo.read()\n",
        "            return conteudo\n",
        "    except FileNotFoundError:\n",
        "        return f\"O arquivo '{nome_arquivo}' não foi encontrado.\"\n",
        "    except Exception as e:\n",
        "        return f\"Ocorreu um erro ao ler o arquivo: {str(e)}\"\n",
        "\n",
        "# Exemplo de uso\n",
        "nome_do_arquivo = 'Quiz2.txt'\n",
        "\n",
        "conteudo_do_arquivo = ler_arquivo(nome_do_arquivo)\n",
        "\n",
        "if conteudo_do_arquivo:\n",
        "    print(f\"Conteúdo do arquivo '{nome_do_arquivo}':\")\n",
        "    print(conteudo_do_arquivo)\n",
        "else:\n",
        "    print(f\"Erro ao ler o arquivo '{nome_do_arquivo}'.\")\n"
      ],
      "metadata": {
        "colab": {
          "base_uri": "https://localhost:8080/"
        },
        "id": "6W7xgZfcI8Cl",
        "outputId": "c42b533a-0c1b-4736-8554-dbf23367c267"
      },
      "execution_count": 31,
      "outputs": [
        {
          "output_type": "stream",
          "name": "stdout",
          "text": [
            "Conteúdo do arquivo 'Quiz2.txt':\n",
            "O arquivo 'Quiz2.txt' não foi encontrado.\n"
          ]
        }
      ]
    },
    {
      "cell_type": "code",
      "source": [
        "#Exer 14\n",
        "\n",
        "import csv\n",
        "\n",
        "def ler_arquivo_csv(nome_arquivo):\n",
        "    try:\n",
        "        with open(nome_arquivo, 'r', newline='') as arquivo:\n",
        "            leitor_csv = csv.reader(arquivo)\n",
        "            linhas = list(leitor_csv)\n",
        "            return linhas\n",
        "    except FileNotFoundError:\n",
        "        return f\"O arquivo '{nome_arquivo}' não foi encontrado.\"\n",
        "    except Exception as e:\n",
        "        return f\"Ocorreu um erro ao ler o arquivo CSV: {str(e)}\"\n",
        "\n",
        "# Exemplo de uso\n",
        "nome_do_arquivo_csv = 'exemplo.csv'\n",
        "\n",
        "conteudo_do_arquivo_csv = ler_arquivo_csv(nome_do_arquivo_csv)\n",
        "\n",
        "if conteudo_do_arquivo_csv:\n",
        "    print(f\"Conteúdo do arquivo CSV '{nome_do_arquivo_csv}':\")\n",
        "    for linha in conteudo_do_arquivo_csv:\n",
        "        print(linha)\n",
        "else:\n",
        "    print(f\"Erro ao ler o arquivo CSV '{nome_do_arquivo_csv}'.\")\n"
      ],
      "metadata": {
        "colab": {
          "base_uri": "https://localhost:8080/"
        },
        "id": "jLU5wY0hJKPL",
        "outputId": "da5a8ebf-2a9f-4ce4-c9c2-e3e588b72b50"
      },
      "execution_count": 32,
      "outputs": [
        {
          "output_type": "stream",
          "name": "stdout",
          "text": [
            "Conteúdo do arquivo CSV 'exemplo.csv':\n",
            "O\n",
            " \n",
            "a\n",
            "r\n",
            "q\n",
            "u\n",
            "i\n",
            "v\n",
            "o\n",
            " \n",
            "'\n",
            "e\n",
            "x\n",
            "e\n",
            "m\n",
            "p\n",
            "l\n",
            "o\n",
            ".\n",
            "c\n",
            "s\n",
            "v\n",
            "'\n",
            " \n",
            "n\n",
            "ã\n",
            "o\n",
            " \n",
            "f\n",
            "o\n",
            "i\n",
            " \n",
            "e\n",
            "n\n",
            "c\n",
            "o\n",
            "n\n",
            "t\n",
            "r\n",
            "a\n",
            "d\n",
            "o\n",
            ".\n"
          ]
        }
      ]
    },
    {
      "cell_type": "code",
      "source": [
        "#Exer 15\n",
        "\n",
        "import json\n",
        "\n",
        "def ler_arquivo_json(nome_arquivo):\n",
        "    try:\n",
        "        with open(nome_arquivo, 'r') as arquivo:\n",
        "            dados_json = json.load(arquivo)\n",
        "            return dados_json\n",
        "    except FileNotFoundError:\n",
        "        return f\"O arquivo '{nome_arquivo}' não foi encontrado.\"\n",
        "    except json.JSONDecodeError as e:\n",
        "        return f\"Erro ao decodificar o JSON no arquivo '{nome_arquivo}': {str(e)}\"\n",
        "    except Exception as e:\n",
        "        return f\"Ocorreu um erro ao ler o arquivo JSON: {str(e)}\"\n",
        "\n",
        "# Exemplo de uso\n",
        "nome_do_arquivo_json = 'Quiz02.json'\n",
        "\n",
        "conteudo_do_arquivo_json = ler_arquivo_json(nome_do_arquivo_json)\n",
        "\n",
        "if conteudo_do_arquivo_json:\n",
        "    print(f\"Conteúdo do arquivo JSON '{nome_do_arquivo_json}':\")\n",
        "    print(conteudo_do_arquivo_json)\n",
        "else:\n",
        "    print(f\"Erro ao ler o arquivo JSON '{nome_do_arquivo_json}'.\")\n"
      ],
      "metadata": {
        "colab": {
          "base_uri": "https://localhost:8080/"
        },
        "id": "156uWobRJUCc",
        "outputId": "b04efc64-bd9f-4517-db04-679fa050c7eb"
      },
      "execution_count": 33,
      "outputs": [
        {
          "output_type": "stream",
          "name": "stdout",
          "text": [
            "Conteúdo do arquivo JSON 'Quiz02.json':\n",
            "O arquivo 'Quiz02.json' não foi encontrado.\n"
          ]
        }
      ]
    },
    {
      "cell_type": "code",
      "source": [
        "#Exer 16\n",
        "\n",
        "import os\n",
        "import shutil\n",
        "\n",
        "def consolidar_arquivos(diretorio_origem, arquivo_destino):\n",
        "    try:\n",
        "        with open(arquivo_destino, 'w') as destino:\n",
        "            for nome_arquivo in os.listdir(diretorio_origem):\n",
        "                caminho_arquivo = os.path.join(diretorio_origem, nome_arquivo)\n",
        "\n",
        "                if os.path.isfile(caminho_arquivo) and nome_arquivo.endswith('.txt'):\n",
        "                    with open(caminho_arquivo, 'r') as origem:\n",
        "                        shutil.copyfileobj(origem, destino)\n",
        "\n",
        "        return f\"Consolidação concluída. Arquivo consolidado: {arquivo_destino}\"\n",
        "    except Exception as e:\n",
        "        return f\"Ocorreu um erro ao consolidar os arquivos: {str(e)}\"\n",
        "\n",
        "# Exemplo de uso\n",
        "diretorio_origem = 'c:/usuario/documentos'\n",
        "arquivo_destino = 'arquivo_consolidado.txt'\n",
        "\n",
        "resultado_consolidacao = consolidar_arquivos(diretorio_origem, arquivo_destino)\n",
        "\n",
        "print(resultado_consolidacao)\n",
        "\n"
      ],
      "metadata": {
        "colab": {
          "base_uri": "https://localhost:8080/"
        },
        "id": "AE2i6-DDJd7T",
        "outputId": "f967664c-31b6-4261-f677-d3a0b2f4559e"
      },
      "execution_count": 35,
      "outputs": [
        {
          "output_type": "stream",
          "name": "stdout",
          "text": [
            "Ocorreu um erro ao consolidar os arquivos: [Errno 2] No such file or directory: 'c:/usuario/documentos'\n"
          ]
        }
      ]
    },
    {
      "cell_type": "code",
      "source": [
        "#Exer 17\n",
        "\n",
        "import csv\n",
        "\n",
        "def encontrar_mes_com_mais_vendas(nome_arquivo_csv):\n",
        "    try:\n",
        "        with open(nome_arquivo_csv, 'r', newline='') as arquivo_csv:\n",
        "            leitor_csv = csv.DictReader(arquivo_csv)\n",
        "\n",
        "            mes_mais_vendas = None\n",
        "            vendas_maximas = 0\n",
        "\n",
        "            for linha in leitor_csv:\n",
        "                mes = linha['Mês']\n",
        "                vendas = int(linha['Vendas'])\n",
        "\n",
        "                if vendas > vendas_maximas:\n",
        "                    vendas_maximas = vendas\n",
        "                    mes_mais_vendas = mes\n",
        "\n",
        "            if mes_mais_vendas:\n",
        "                return f\"O mês com mais vendas é: {mes_mais_vendas} (Vendas: {vendas_maximas})\"\n",
        "            else:\n",
        "                return \"Não há dados suficientes no arquivo CSV.\"\n",
        "    except FileNotFoundError:\n",
        "        return f\"O arquivo '{nome_arquivo_csv}' não foi encontrado.\"\n",
        "    except Exception as e:\n",
        "        return f\"Ocorreu um erro ao ler o arquivo CSV: {str(e)}\"\n",
        "\n",
        "\n",
        "arquivo_csv = 'vendas.csv'\n",
        "resultado = encontrar_mes_com_mais_vendas(arquivo_csv)\n",
        "print(resultado)\n",
        "\n",
        "\n"
      ],
      "metadata": {
        "colab": {
          "base_uri": "https://localhost:8080/"
        },
        "id": "ul4GZjJFJuMR",
        "outputId": "60fab389-f9eb-4a6d-ec51-47450de3feb9"
      },
      "execution_count": 40,
      "outputs": [
        {
          "output_type": "stream",
          "name": "stdout",
          "text": [
            "O arquivo 'vendas.csv' não foi encontrado.\n"
          ]
        }
      ]
    },
    {
      "cell_type": "code",
      "source": [
        "#Exer 18\n",
        "\n",
        "import csv\n",
        "\n",
        "def encontrar_mes_com_menos_vendas(nome_arquivo_csv):\n",
        "    try:\n",
        "        with open(nome_arquivo_csv, 'r', newline='') as arquivo_csv:\n",
        "            leitor_csv = csv.DictReader(arquivo_csv)\n",
        "\n",
        "            mes_menos_vendas = None\n",
        "            vendas_minimas = float('inf')\n",
        "\n",
        "            for linha in leitor_csv:\n",
        "                mes = linha['Mês']\n",
        "                vendas = float(linha['Vendas'])\n",
        "                if vendas < vendas_minimas:\n",
        "                    vendas_minimas = vendas\n",
        "                    mes_menos_vendas = mes\n",
        "\n",
        "            if mes_menos_vendas:\n",
        "                return f\"O mês com menos vendas é: {mes_menos_vendas} (Vendas: {vendas_minimas})\"\n",
        "            else:\n",
        "                return \"Não há dados suficientes no arquivo CSV.\"\n",
        "    except FileNotFoundError:\n",
        "        return f\"O arquivo '{nome_arquivo_csv}' não foi encontrado.\"\n",
        "    except Exception as e:\n",
        "        return f\"Ocorreu um erro ao ler o arquivo CSV: {str(e)}\"\n",
        "\n",
        "\n",
        "arquivo_csv = 'vendas.csv'\n",
        "resultado = encontrar_mes_com_menos_vendas(arquivo_csv)\n",
        "print(resultado)\n"
      ],
      "metadata": {
        "colab": {
          "base_uri": "https://localhost:8080/"
        },
        "id": "OXD46sWJNzJf",
        "outputId": "425ab32d-1d7d-4f8c-f51a-5855aead00a5"
      },
      "execution_count": 41,
      "outputs": [
        {
          "output_type": "stream",
          "name": "stdout",
          "text": [
            "O arquivo 'vendas.csv' não foi encontrado.\n"
          ]
        }
      ]
    },
    {
      "cell_type": "code",
      "source": [
        "#Exer 19\n",
        "\n",
        "import csv\n",
        "\n",
        "def calcular_soma_vendas_por_vendedor(nome_arquivo_csv):\n",
        "    try:\n",
        "        with open(nome_arquivo_csv, 'r', newline='') as arquivo_csv:\n",
        "            leitor_csv = csv.DictReader(arquivo_csv)\n",
        "\n",
        "            vendas_por_vendedor = {}\n",
        "\n",
        "            for linha in leitor_csv:\n",
        "                vendedor = linha['Vendedor']\n",
        "                venda = float(linha['Venda'])\n",
        "\n",
        "                if vendedor in vendas_por_vendedor:\n",
        "                    vendas_por_vendedor[vendedor] += venda\n",
        "                else:\n",
        "                    vendas_por_vendedor[vendedor] = venda\n",
        "\n",
        "            return vendas_por_vendedor\n",
        "    except FileNotFoundError:\n",
        "        return f\"O arquivo '{nome_arquivo_csv}' não foi encontrado.\"\n",
        "    except Exception as e:\n",
        "        return f\"Ocorreu um erro ao ler o arquivo CSV: {str(e)}\"\n",
        "\n",
        "\n",
        "arquivo_csv = 'vendas_por_vendedor.csv'\n",
        "resultado = calcular_soma_vendas_por_vendedor(arquivo_csv)\n",
        "\n",
        "if not isinstance(resultado, str):\n",
        "    print(\"Soma de vendas por vendedor:\")\n",
        "    for vendedor, soma_vendas in resultado.items():\n",
        "        print(f\"{vendedor}: {soma_vendas}\")\n",
        "else:\n",
        "    print(resultado)\n"
      ],
      "metadata": {
        "colab": {
          "base_uri": "https://localhost:8080/"
        },
        "id": "0WOHorz4OJtw",
        "outputId": "b6d79c48-da2f-4bff-bdd3-b1ecb22a4bc6"
      },
      "execution_count": 42,
      "outputs": [
        {
          "output_type": "stream",
          "name": "stdout",
          "text": [
            "O arquivo 'vendas_por_vendedor.csv' não foi encontrado.\n"
          ]
        }
      ]
    },
    {
      "cell_type": "code",
      "source": [
        "#Exer 20\n",
        "\n",
        "import csv\n",
        "\n",
        "def encontrar_vendedores_mais_e_menos_vendas(nome_arquivo_csv):\n",
        "    try:\n",
        "        with open(nome_arquivo_csv, 'r', newline='') as arquivo_csv:\n",
        "            leitor_csv = csv.DictReader(arquivo_csv)\n",
        "\n",
        "            vendas_por_vendedor = {}\n",
        "\n",
        "            for linha in leitor_csv:\n",
        "                vendedor = linha['Vendedor']\n",
        "                venda = float(linha['Venda'])\n",
        "\n",
        "                if vendedor in vendas_por_vendedor:\n",
        "                    vendas_por_vendedor[vendedor] += venda\n",
        "                else:\n",
        "                    vendas_por_vendedor[vendedor] = venda\n",
        "\n",
        "            vendedor_mais_vendeu = max(vendas_por_vendedor, key=vendas_por_vendedor.get)\n",
        "            vendedor_menos_vendeu = min(vendas_por_vendedor, key=vendas_por_vendedor.get)\n",
        "\n",
        "            return f\"O vendedor que mais vendeu foi: {vendedor_mais_vendeu} (Vendas: {vendas_por_vendedor[vendedor_mais_vendeu]})\\nO vendedor que menos vendeu foi: {vendedor_menos_vendeu} (Vendas: {vendas_por_vendedor[vendedor_menos_vendeu]})\"\n",
        "    except FileNotFoundError:\n",
        "        return f\"O arquivo '{nome_arquivo_csv}' não foi encontrado.\"\n",
        "    except Exception as e:\n",
        "        return f\"Ocorreu um erro ao ler o arquivo CSV: {str(e)}\"\n",
        "\n",
        "\n",
        "arquivo_csv = 'vendas_por_vendedor.csv'\n",
        "resultado = encontrar_vendedores_mais_e_menos_vendas(arquivo_csv)\n",
        "\n",
        "print(resultado)\n"
      ],
      "metadata": {
        "colab": {
          "base_uri": "https://localhost:8080/"
        },
        "id": "B2KN3XKXPupY",
        "outputId": "98648e71-c2bb-49d9-bf7c-e56cddc78889"
      },
      "execution_count": 43,
      "outputs": [
        {
          "output_type": "stream",
          "name": "stdout",
          "text": [
            "O arquivo 'vendas_por_vendedor.csv' não foi encontrado.\n"
          ]
        }
      ]
    }
  ]
}